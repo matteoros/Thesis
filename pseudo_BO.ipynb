{
 "cells": [
  {
   "cell_type": "markdown",
   "metadata": {},
   "source": [
    "# Pseudo code for performing Bayesian Optimization Simulation"
   ]
  },
  {
   "cell_type": "markdown",
   "metadata": {},
   "source": [
    "## 1. Importing packages and dependencies"
   ]
  },
  {
   "cell_type": "markdown",
   "metadata": {},
   "source": [
    "Usefull packages for handling the data and plotting the results"
   ]
  },
  {
   "cell_type": "code",
   "execution_count": null,
   "metadata": {},
   "outputs": [],
   "source": [
    "import pandas as pd\n",
    "import matplotlib.pyplot as plt\n",
    "import numpy as np\n",
    "import time\n",
    "import os"
   ]
  },
  {
   "cell_type": "markdown",
   "metadata": {},
   "source": [
    "Does Python have the access to the GPU? If true, faster calculations are performed"
   ]
  },
  {
   "cell_type": "code",
   "execution_count": null,
   "metadata": {},
   "outputs": [],
   "source": [
    "SMOKE_TEST = os.environ.get(\"SMOKE_TEST\")\n",
    "print(f'SMOKE_TEST: {SMOKE_TEST}')"
   ]
  },
  {
   "cell_type": "markdown",
   "metadata": {},
   "source": [
    "Importing Bofire dependencies:"
   ]
  },
  {
   "cell_type": "markdown",
   "metadata": {},
   "source": [
    "## 2. Setting up the problem using Bofire"
   ]
  },
  {
   "cell_type": "code",
   "execution_count": null,
   "metadata": {},
   "outputs": [],
   "source": [
    "from bofire.data_models.domain.api import Domain\n",
    "from bofire.data_models.domain.api import Inputs, Outputs\n",
    "from bofire.data_models.features.api import ContinuousInput, ContinuousOutput"
   ]
  },
  {
   "cell_type": "markdown",
   "metadata": {},
   "source": [
    "Consider the problem where we need to maximize a target variable over two different variables here specified as features:"
   ]
  },
  {
   "cell_type": "code",
   "execution_count": null,
   "metadata": {},
   "outputs": [],
   "source": [
    "lower_bound1 = 30\n",
    "upper_bound1 = 55\n",
    "feature1 = ContinuousInput(key='feature1', bounds = [lower_bound1, upper_bound1], unit='°C')\n",
    "\n",
    "lower_bound2 = 7\n",
    "upper_bound2 = 9 \n",
    "feature2 = ContinuousInput(key='feature2', bounds=[lower_bound2, upper_bound2])\n",
    "\n",
    "input_features = Inputs(\n",
    "    features=[\n",
    "        feature1,\n",
    "        feature2\n",
    "    ]\n",
    ")"
   ]
  },
  {
   "cell_type": "markdown",
   "metadata": {},
   "source": [
    "Using the module MaximizeObjective it is possible to obtain the maximum out of the target."
   ]
  },
  {
   "cell_type": "code",
   "execution_count": null,
   "metadata": {},
   "outputs": [],
   "source": [
    "from bofire.data_models.objectives.api import MaximizeObjective\n",
    "# from bofire.data_models.objectives.api import MinimizeObjective\n",
    "\n",
    "target_lower = 0\n",
    "target_upper = 100\n",
    "objective = MaximizeObjective(\n",
    "    w=1.0, # weight of the objective: in the context of a Multiple-Objective Optimization, we can specify the weight of each objective\n",
    "    lower_bound=target_lower,\n",
    "    upper_bound=target_lower\n",
    ")\n",
    "target_feature = ContinuousOutput(key=\"Target\", objective=objective, unit='%')\n",
    "\n",
    "# create an output feature\n",
    "output_features = Outputs(features=[target_feature])"
   ]
  },
  {
   "cell_type": "markdown",
   "metadata": {},
   "source": [
    "Set up the domain of the problem of interest:"
   ]
  },
  {
   "cell_type": "code",
   "execution_count": null,
   "metadata": {},
   "outputs": [],
   "source": [
    "domain = Domain(\n",
    "    inputs = input_features,\n",
    "    outputs = output_features,\n",
    ")\n",
    "domain.get_feature_reps_df() # returns the entire set of features and target with boundaries"
   ]
  },
  {
   "cell_type": "code",
   "execution_count": null,
   "metadata": {},
   "outputs": [],
   "source": [
    "from bofire.data_models.strategies.api import SoboStrategy # Single-Objective Bayesian Optimization\n",
    "from bofire.data_models.acquisition_functions.api import qEI # quasi-MonteCarlo-Expected of Improvement Acquisition Function\n",
    "import bofire.strategies.mapper as StrategyMapper # map the data to the Bayesian Optimization framework"
   ]
  },
  {
   "cell_type": "code",
   "execution_count": null,
   "metadata": {},
   "outputs": [],
   "source": [
    "qExpectedImprovement = qEI() # instance of qEI\n",
    "\n",
    "# puttin all the information together\n",
    "sobo_strategy_data_model = SoboStrategy(\n",
    "    domain=domain,\n",
    "    acquisition_function=qExpectedImprovement,\n",
    ")\n",
    "\n",
    "# map the strategy data model to the actual strategy that has functionality\n",
    "sobo_strategy = StrategyMapper.map(sobo_strategy_data_model)"
   ]
  },
  {
   "cell_type": "markdown",
   "metadata": {},
   "source": [
    "## 3. Setting up the simulation"
   ]
  },
  {
   "cell_type": "markdown",
   "metadata": {},
   "source": [
    "Importing the packages and modules for fitting a second order model:"
   ]
  },
  {
   "cell_type": "code",
   "execution_count": null,
   "metadata": {},
   "outputs": [],
   "source": [
    "from sklearn.linear_model import LinearRegression\n",
    "from sklearn.preprocessing import PolynomialFeatures\n",
    "poly_features = PolynomialFeatures(degree=2)"
   ]
  },
  {
   "cell_type": "markdown",
   "metadata": {},
   "source": [
    "Importing the actual dataset:"
   ]
  },
  {
   "cell_type": "code",
   "execution_count": null,
   "metadata": {},
   "outputs": [],
   "source": [
    "path  = r\"C:\\path\\to\\complete_df.csv\"\n",
    "df = pd.read_csv(path)\n",
    "\n",
    "X = df[['Feature1', 'Feature2']] # predictors \n",
    "y = df['Target'] # target variable"
   ]
  },
  {
   "cell_type": "markdown",
   "metadata": {},
   "source": [
    "Fitting the second order regression model which will be used for simulating experiment results:"
   ]
  },
  {
   "cell_type": "code",
   "execution_count": null,
   "metadata": {},
   "outputs": [],
   "source": [
    "X_poly = poly_features.fit_transform(X)\n",
    "reg = LinearRegression()\n",
    "reg.fit(X_poly, y)"
   ]
  },
  {
   "cell_type": "markdown",
   "metadata": {},
   "source": [
    "Starting dataset wich will be used as well in the other simulation for comparison reasons."
   ]
  },
  {
   "cell_type": "code",
   "execution_count": null,
   "metadata": {},
   "outputs": [],
   "source": [
    "df_initial = pd.DataFrame({'Feature1': [35, 35, 40, 40, 37.5], 'Feature2': [7, 7.5, 7, 7.5, 7.25]})"
   ]
  },
  {
   "cell_type": "markdown",
   "metadata": {},
   "source": [
    "Adding a function for adding some Gaussian Noise:"
   ]
  },
  {
   "cell_type": "code",
   "execution_count": null,
   "metadata": {},
   "outputs": [],
   "source": [
    "def gaussian_noise(x, mu=0, std=0.5):\n",
    "    noise = np.random.normal(mu, std)\n",
    "    x_noisy = x + noise\n",
    "    return x_noisy "
   ]
  },
  {
   "cell_type": "markdown",
   "metadata": {},
   "source": [
    "Adding to df_initial the predicted values of the target:"
   ]
  },
  {
   "cell_type": "code",
   "execution_count": null,
   "metadata": {},
   "outputs": [],
   "source": [
    "X_initial = df_initial[['Feature1', 'Feature2']]\n",
    "X_transformed = poly_features.fit_transform(X_initial)\n",
    "\n",
    "# get the predition from the Ground Truth model\n",
    "df_initial['Target'] = gaussian_noise(reg.predict(X_transformed)[0])"
   ]
  },
  {
   "cell_type": "markdown",
   "metadata": {},
   "source": [
    "## 4. Small algorithm to implement the Simulation"
   ]
  },
  {
   "cell_type": "markdown",
   "metadata": {},
   "source": [
    "Source: https://github.com/experimental-design/bofire/blob/main/tutorials/basic_examples/Reaction_Optimization_Example.ipynb"
   ]
  },
  {
   "cell_type": "markdown",
   "metadata": {},
   "source": [
    "This is the full implementation of the simulation. "
   ]
  },
  {
   "cell_type": "code",
   "execution_count": null,
   "metadata": {},
   "outputs": [],
   "source": [
    "max_experiments = 10\n",
    "i = 0\n",
    "done = False\n",
    "\n",
    "while not done:\n",
    "    i += 1 \n",
    "    # create one single candidate based on the GP model by maximizing the acquisition function: \n",
    "    new_candidates = sobo_strategy.ask(1)\n",
    "\n",
    "    # extract the predictors of the best candidate: \n",
    "    X_new = new_candidates[['Feature1', 'Feature2']]\n",
    "\n",
    "    # transformation for the polynomial prediction:\n",
    "    X_new_poly = poly_features.fit_transform(X_new)\n",
    "\n",
    "    # obtaining the prediction on the new candidate and adding gaussian noise:\n",
    "    y_true = reg.predict(X_new_poly)[0] \n",
    "    y_noise = gaussian_noise(y_true)\n",
    "    \n",
    "    # creating one row DataFrame:\n",
    "    new_experiment_simulated = pd.DataFrame({'Feature1': X_new['Feature1'], 'Feature2': X_new['Feature2'], 'Target': y_noise})\n",
    "    print(f\"Iteration: {i}\")\n",
    "    print(new_experiment_simulated)\n",
    "\n",
    "    # inserting in our Sobol strategy\n",
    "    sobo_strategy.tell(new_experiment_simulated)\n",
    "\n",
    "    if i > max_experiments:\n",
    "        done = True"
   ]
  },
  {
   "cell_type": "markdown",
   "metadata": {},
   "source": [
    "The resulting DataFrame contains all the iterations with the simulated results of the experiments."
   ]
  },
  {
   "cell_type": "code",
   "execution_count": null,
   "metadata": {},
   "outputs": [],
   "source": [
    "result = sobo_strategy.experiments\n",
    "result"
   ]
  },
  {
   "cell_type": "markdown",
   "metadata": {},
   "source": [
    "## 5. Graphical inspections of the results:"
   ]
  },
  {
   "cell_type": "markdown",
   "metadata": {},
   "source": [
    "Understand at each iteration which is the result overall:"
   ]
  },
  {
   "cell_type": "code",
   "execution_count": null,
   "metadata": {},
   "outputs": [],
   "source": [
    "result['Target'].plot()\n",
    "plt.title('Bayesian Optimization Iterations')\n",
    "plt.xlabel('Iterations')\n",
    "plt.ylabel('Target')\n",
    "# plt.savefig(\"iterations.png\", dpi=300) ## use for saving figure\n",
    "plt.show()"
   ]
  },
  {
   "cell_type": "markdown",
   "metadata": {},
   "source": [
    "Function to plot in 3D the results:"
   ]
  },
  {
   "cell_type": "code",
   "execution_count": null,
   "metadata": {},
   "outputs": [],
   "source": [
    "# Create the 3D scatterplot\n",
    "def plotter_3D(result, name):\n",
    "    fig = plt.figure(figsize=(7, 5))\n",
    "    ax = fig.add_subplot(111, projection='3d')\n",
    "    ax.scatter(result['Feature1'], result['Feature2'], result['Target'])\n",
    "\n",
    "    # Set labels and title\n",
    "    ax.zaxis.labelpad=-1\n",
    "    ax.set_xlabel('$x_1$ = Feature1')\n",
    "    ax.set_ylabel('$x_2$ = Feature2')\n",
    "    ax.set_zlabel('$y$ = Target')\n",
    "    ax.set_title('3D Bayesian Optimization')\n",
    "    \n",
    "    plt.figure()\n",
    "    # fig.savefig(name, dpi=300)  ## use for saving figure\n",
    "\n",
    "    # Show the plot\n",
    "    plt.show()"
   ]
  },
  {
   "cell_type": "code",
   "execution_count": null,
   "metadata": {},
   "outputs": [],
   "source": [
    "plotter_3D(result)"
   ]
  },
  {
   "cell_type": "markdown",
   "metadata": {},
   "source": [
    "Function to create the counterplot of the results:"
   ]
  },
  {
   "cell_type": "code",
   "execution_count": null,
   "metadata": {},
   "outputs": [],
   "source": [
    "def plot_countour(result, name):\n",
    "    pH = np.round(np.linspace(6.5, 9, 101),2)\n",
    "    Temperature = np.round(np.linspace(30, 55, 101),2)\n",
    "    X1, X2 = np.meshgrid(Temperature, pH)\n",
    "    X1_flat = X1.flatten()\n",
    "    X2_flat = X2.flatten()\n",
    "    X = pd.DataFrame(np.column_stack((X1_flat, X2_flat)), columns = ['Feature1', 'Feature2'])\n",
    "    X_poly = poly_features.transform(X)\n",
    "    Z_pred = reg.predict(X_poly)\n",
    "    Z_pred = Z_pred.reshape(X1.shape)\n",
    "\n",
    "    plt.figure(figsize=(7,5))\n",
    "    fig = plt.contourf(X1, X2, Z_pred, levels=20, cmap='viridis')\n",
    "    plt.scatter(result['Feature1'], result['Feature2'], color='black')\n",
    "    plt.xlabel('$x_1$ = Feature1')\n",
    "    plt.ylabel('$X_2$ = Feature2')\n",
    "    plt.title('Bayesian Optimization Simulation')\n",
    "    plt.colorbar(fig)\n",
    "     # plt.savefig(name, dpi=300)\n",
    "    plt.show()"
   ]
  },
  {
   "cell_type": "code",
   "execution_count": null,
   "metadata": {},
   "outputs": [],
   "source": [
    "plot_countour(result)"
   ]
  }
 ],
 "metadata": {
  "language_info": {
   "name": "python"
  },
  "orig_nbformat": 4
 },
 "nbformat": 4,
 "nbformat_minor": 2
}
